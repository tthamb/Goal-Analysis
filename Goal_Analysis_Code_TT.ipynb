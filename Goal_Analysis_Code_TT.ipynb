{
 "cells": [
  {
   "cell_type": "code",
   "execution_count": 4,
   "id": "3fc88cfc-01e8-4a70-97d0-4691771cb3d2",
   "metadata": {},
   "outputs": [],
   "source": [
    "import pandas as pd"
   ]
  },
  {
   "cell_type": "code",
   "execution_count": 6,
   "id": "34ba4e72-b32a-4dff-a3ac-b4ef42584be5",
   "metadata": {},
   "outputs": [],
   "source": [
    "# First: Load the csv file into a Pandas dataframe (df)\n",
    "\n",
    "df = pd.read_csv('results.csv')"
   ]
  },
  {
   "cell_type": "code",
   "execution_count": 8,
   "id": "ef670677-ba08-4ebd-806d-f11beeb0b028",
   "metadata": {},
   "outputs": [
    {
     "name": "stdout",
     "output_type": "stream",
     "text": [
      "<class 'pandas.core.frame.DataFrame'>\n",
      "RangeIndex: 45315 entries, 0 to 45314\n",
      "Data columns (total 9 columns):\n",
      " #   Column      Non-Null Count  Dtype \n",
      "---  ------      --------------  ----- \n",
      " 0   date        45315 non-null  object\n",
      " 1   home_team   45315 non-null  object\n",
      " 2   away_team   45315 non-null  object\n",
      " 3   home_score  45315 non-null  int64 \n",
      " 4   away_score  45315 non-null  int64 \n",
      " 5   tournament  45315 non-null  object\n",
      " 6   city        45315 non-null  object\n",
      " 7   country     45315 non-null  object\n",
      " 8   neutral     45315 non-null  bool  \n",
      "dtypes: bool(1), int64(2), object(6)\n",
      "memory usage: 2.8+ MB\n"
     ]
    }
   ],
   "source": [
    "\n",
    "# Explore the df\n",
    "\n",
    "df.info()"
   ]
  },
  {
   "cell_type": "code",
   "execution_count": null,
   "id": "a87b6990-2c80-4dba-8ef6-759aa8ca9d07",
   "metadata": {},
   "outputs": [],
   "source": [
    "#Question 1 : What is the average number of goals for the home team?\n",
    "#Hint: You can call the mean() method on the 'home_score' column."
   ]
  },
  {
   "cell_type": "code",
   "execution_count": null,
   "id": "9f309bae-37ec-427b-938d-7dd38406cd89",
   "metadata": {},
   "outputs": [],
   "source": [
    "average_home_goals=df['home_score'].mean\n",
    "average_home_goals"
   ]
  },
  {
   "cell_type": "code",
   "execution_count": null,
   "id": "ea7337c9-fed1-41d6-82d2-d22a71256175",
   "metadata": {},
   "outputs": [],
   "source": [
    "#Q2: What is the average number of goals for the away team?\n",
    "#Hint: You can call the mean() method on the 'away_score' column."
   ]
  },
  {
   "cell_type": "code",
   "execution_count": null,
   "id": "6b14eaf3-e8dc-48b4-b4f1-b080d4b6c6d8",
   "metadata": {},
   "outputs": [],
   "source": [
    "average_away_goals = df['away_score'].mean()\n",
    "average_away_goals"
   ]
  },
  {
   "cell_type": "code",
   "execution_count": null,
   "id": "4ea5219f-b99b-4688-b850-145372adc490",
   "metadata": {},
   "outputs": [],
   "source": [
    "#Q3: What is the country with the highest overall home score?\n",
    "#Hint: You will need to group the data by country, then get the sum of home scores for each country. You can use the idxmax() function to find the index(country) with the highest sum."
   ]
  },
  {
   "cell_type": "code",
   "execution_count": null,
   "id": "c68e2e2e-7a13-4a7b-a6c2-0968ad2abe3a",
   "metadata": {},
   "outputs": [],
   "source": [
    "highest_home_score_country = df.groupby('country')['home_score'].sum().idxmax()\n",
    "highest_home_score_country"
   ]
  },
  {
   "cell_type": "code",
   "execution_count": null,
   "id": "1ef4c539-a5ec-4a28-a13b-81a4b3e32dc1",
   "metadata": {},
   "outputs": [],
   "source": [
    "#Q4: What are the top 3 types of tournaments?\n",
    "#Hint: You can use the value_counts() method to count the occurrences of each unique value in the 'tournament' column."
   ]
  },
  {
   "cell_type": "code",
   "execution_count": null,
   "id": "2987ab38-fa31-4f83-8f4d-9d8b19e1c965",
   "metadata": {},
   "outputs": [],
   "source": [
    "top_3_tournaments = df['tournament'].value_counts().head(3)\n",
    "top_3_tournaments"
   ]
  },
  {
   "cell_type": "code",
   "execution_count": null,
   "id": "5feaf2a5-3724-4362-a885-6d85892b560c",
   "metadata": {},
   "outputs": [],
   "source": [
    "#Q5: Which country has the highest overall FIFA World Cup goals?\n",
    "#To answer this question, consider breaking down your solution into 3 steps."
   ]
  },
  {
   "cell_type": "code",
   "execution_count": null,
   "id": "6662b9f5-3d2d-45e3-bb2c-fc1153b9db74",
   "metadata": {},
   "outputs": [],
   "source": [
    "#5.1 Create a new dataframe (fifa_df) that only contains rows where the \"tournament\" column == 'FIFA World Cup'."
   ]
  },
  {
   "cell_type": "code",
   "execution_count": null,
   "id": "8c452ef2-0759-4f0a-a758-c31c8bf9b558",
   "metadata": {},
   "outputs": [],
   "source": [
    "fifa_df = df[df['tournament'] == 'FIFA World Cup']"
   ]
  },
  {
   "cell_type": "code",
   "execution_count": null,
   "id": "da6e07aa-730d-4e49-b690-d2decfca027d",
   "metadata": {},
   "outputs": [],
   "source": [
    "#5.2 In your new fifa_df, create a new 'total_score' column that sums 'home_score' + 'away_score' for each row.\n",
    "#PS. If you get a \"SettingWithCopyWarning\", please ignore it."
   ]
  },
  {
   "cell_type": "code",
   "execution_count": null,
   "id": "fb5aacef-93cf-4670-9e45-c53aed7abf25",
   "metadata": {},
   "outputs": [],
   "source": [
    "fifa_df['total_goals'] = fifa_df['home_score'] + fifa_df['away_score']"
   ]
  },
  {
   "cell_type": "code",
   "execution_count": null,
   "id": "a2ab5ecc-93b9-446b-a8f2-7e0a5ce655d6",
   "metadata": {},
   "outputs": [],
   "source": [
    "#5.3 Group your data by country, then get the sum of the 'total_score' column. From there, you can use idxmax() to find the country with the highest 'total_score'."
   ]
  },
  {
   "cell_type": "code",
   "execution_count": null,
   "id": "f86d44ce-e5c2-456d-8a87-14777dd7b871",
   "metadata": {},
   "outputs": [],
   "source": [
    "country_with_highest_goals = fifa_df.groupby('country')['total_goals'].sum().idxmax()\n",
    "country_with_highest_goals"
   ]
  }
 ],
 "metadata": {
  "kernelspec": {
   "display_name": "anaconda-2024.02-py310",
   "language": "python",
   "name": "conda-env-anaconda-2024.02-py310-py"
  },
  "language_info": {
   "codemirror_mode": {
    "name": "ipython",
    "version": 3
   },
   "file_extension": ".py",
   "mimetype": "text/x-python",
   "name": "python",
   "nbconvert_exporter": "python",
   "pygments_lexer": "ipython3",
   "version": "3.10.14"
  }
 },
 "nbformat": 4,
 "nbformat_minor": 5
}
