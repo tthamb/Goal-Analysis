{
 "cells": [
  {
   "cell_type": "code",
   "execution_count": 117,
   "id": "409e1f9d-b9b1-486b-83eb-c16d51bf73b5",
   "metadata": {},
   "outputs": [],
   "source": [
    "import pandas as pd"
   ]
  },
  {
   "cell_type": "code",
   "execution_count": 119,
   "id": "3c40dcff-9988-45ed-aec9-9c0f8bc597dd",
   "metadata": {},
   "outputs": [],
   "source": [
    "# First: Load the csv file into a Pandas dataframe (df)\n",
    "\n",
    "df = pd.read_csv('results.csv')"
   ]
  },
  {
   "cell_type": "code",
   "execution_count": 121,
   "id": "5ba2832c-382b-45c2-8726-185cd689c1ac",
   "metadata": {},
   "outputs": [
    {
     "name": "stdout",
     "output_type": "stream",
     "text": [
      "<class 'pandas.core.frame.DataFrame'>\n",
      "RangeIndex: 45315 entries, 0 to 45314\n",
      "Data columns (total 9 columns):\n",
      " #   Column      Non-Null Count  Dtype \n",
      "---  ------      --------------  ----- \n",
      " 0   date        45315 non-null  object\n",
      " 1   home_team   45315 non-null  object\n",
      " 2   away_team   45315 non-null  object\n",
      " 3   home_score  45315 non-null  int64 \n",
      " 4   away_score  45315 non-null  int64 \n",
      " 5   tournament  45315 non-null  object\n",
      " 6   city        45315 non-null  object\n",
      " 7   country     45315 non-null  object\n",
      " 8   neutral     45315 non-null  bool  \n",
      "dtypes: bool(1), int64(2), object(6)\n",
      "memory usage: 2.8+ MB\n"
     ]
    }
   ],
   "source": [
    "\n",
    "# Explore the df\n",
    "\n",
    "df.info()"
   ]
  },
  {
   "cell_type": "code",
   "execution_count": 123,
   "id": "3229ef09-26e9-4744-98c3-fa24ebd88b73",
   "metadata": {},
   "outputs": [],
   "source": [
    "#Question 1 : What is the average number of goals for the home team?\n",
    "#Hint: You can call the mean() method on the 'home_score' column."
   ]
  },
  {
   "cell_type": "code",
   "execution_count": 131,
   "id": "91ebba4b-959c-4f27-9b28-11ded0401ff3",
   "metadata": {
    "scrolled": true
   },
   "outputs": [
    {
     "data": {
      "text/plain": [
       "<bound method Series.mean of 0        0\n",
       "1        4\n",
       "2        2\n",
       "3        2\n",
       "4        3\n",
       "        ..\n",
       "45310    1\n",
       "45311    1\n",
       "45312    0\n",
       "45313    0\n",
       "45314    1\n",
       "Name: home_score, Length: 45315, dtype: int64>"
      ]
     },
     "execution_count": 131,
     "metadata": {},
     "output_type": "execute_result"
    }
   ],
   "source": [
    "average_home_goals=df['home_score'].mean\n",
    "average_home_goals"
   ]
  },
  {
   "cell_type": "code",
   "execution_count": 133,
   "id": "3748a542-ee15-4e44-bf03-46fcf0e7f074",
   "metadata": {},
   "outputs": [],
   "source": [
    "#Q2: What is the average number of goals for the away team?\n",
    "#Hint: You can call the mean() method on the 'away_score' column."
   ]
  },
  {
   "cell_type": "code",
   "execution_count": 137,
   "id": "27925a41-7b2f-4b61-ba16-c452ebe0ebab",
   "metadata": {},
   "outputs": [
    {
     "data": {
      "text/plain": [
       "1.1782412004854905"
      ]
     },
     "execution_count": 137,
     "metadata": {},
     "output_type": "execute_result"
    }
   ],
   "source": [
    "average_away_goals = df['away_score'].mean()\n",
    "average_away_goals"
   ]
  },
  {
   "cell_type": "code",
   "execution_count": 95,
   "id": "58efa421-4b45-467a-b177-c3261a4c904a",
   "metadata": {},
   "outputs": [],
   "source": [
    "#Q3: What is the country with the highest overall home score?\n",
    "#Hint: You will need to group the data by country, then get the sum of home scores for each country. You can use the idxmax() function to find the index(country) with the highest sum."
   ]
  },
  {
   "cell_type": "code",
   "execution_count": 97,
   "id": "1416f3ca-456f-4cc0-ae88-4363054bb412",
   "metadata": {},
   "outputs": [
    {
     "data": {
      "text/plain": [
       "'United States'"
      ]
     },
     "execution_count": 97,
     "metadata": {},
     "output_type": "execute_result"
    }
   ],
   "source": [
    "highest_home_score_country = df.groupby('country')['home_score'].sum().idxmax()\n",
    "highest_home_score_country\n"
   ]
  },
  {
   "cell_type": "code",
   "execution_count": 99,
   "id": "dd9f14c8-db69-4cd2-bc0a-f50e4d511191",
   "metadata": {},
   "outputs": [],
   "source": [
    "#Q4: What are the top 3 types of tournaments?\n",
    "#Hint: You can use the value_counts() method to count the occurrences of each unique value in the 'tournament' column."
   ]
  },
  {
   "cell_type": "code",
   "execution_count": 101,
   "id": "ec9be9f6-d153-49f3-bb28-adc77fb0ad71",
   "metadata": {},
   "outputs": [
    {
     "data": {
      "text/plain": [
       "tournament\n",
       "Friendly                        17773\n",
       "FIFA World Cup qualification     8016\n",
       "UEFA Euro qualification          2815\n",
       "Name: count, dtype: int64"
      ]
     },
     "execution_count": 101,
     "metadata": {},
     "output_type": "execute_result"
    }
   ],
   "source": [
    "top_3_tournaments = df['tournament'].value_counts().head(3)\n",
    "top_3_tournaments"
   ]
  },
  {
   "cell_type": "code",
   "execution_count": 103,
   "id": "9a410961-a026-4f9d-b500-ea4ce325df6e",
   "metadata": {},
   "outputs": [],
   "source": [
    "#Q5: Which country has the highest overall FIFA World Cup goals?\n",
    "#To answer this question, consider breaking down your solution into 3 steps."
   ]
  },
  {
   "cell_type": "code",
   "execution_count": 105,
   "id": "aa80f230-a27b-4c78-8d68-2a15eb5e63ce",
   "metadata": {},
   "outputs": [],
   "source": [
    "#5.1 Create a new dataframe (fifa_df) that only contains rows where the \"tournament\" column == 'FIFA World Cup'."
   ]
  },
  {
   "cell_type": "code",
   "execution_count": 107,
   "id": "a9041a66-eda7-40cc-88a6-42155248809d",
   "metadata": {},
   "outputs": [],
   "source": [
    "fifa_df = df[df['tournament'] == 'FIFA World Cup']"
   ]
  },
  {
   "cell_type": "code",
   "execution_count": 109,
   "id": "26eaf8bc-eb36-419e-9ec1-c50b64d7d859",
   "metadata": {},
   "outputs": [],
   "source": [
    "#5.2 In your new fifa_df, create a new 'total_score' column that sums 'home_score' + 'away_score' for each row.\n",
    "#PS. If you get a \"SettingWithCopyWarning\", please ignore it."
   ]
  },
  {
   "cell_type": "code",
   "execution_count": 111,
   "id": "ec88374d-4369-4892-a8e7-25ad97369d67",
   "metadata": {},
   "outputs": [
    {
     "name": "stderr",
     "output_type": "stream",
     "text": [
      "/tmp/ipykernel_353/3904830221.py:1: SettingWithCopyWarning: \n",
      "A value is trying to be set on a copy of a slice from a DataFrame.\n",
      "Try using .loc[row_indexer,col_indexer] = value instead\n",
      "\n",
      "See the caveats in the documentation: https://pandas.pydata.org/pandas-docs/stable/user_guide/indexing.html#returning-a-view-versus-a-copy\n",
      "  fifa_df['total_goals'] = fifa_df['home_score'] + fifa_df['away_score']\n"
     ]
    }
   ],
   "source": [
    "fifa_df['total_goals'] = fifa_df['home_score'] + fifa_df['away_score']"
   ]
  },
  {
   "cell_type": "code",
   "execution_count": 113,
   "id": "0643b6ee-0f37-4c9c-b0d3-7ebfe1130b1e",
   "metadata": {},
   "outputs": [],
   "source": [
    "#5.3 Group your data by country, then get the sum of the 'total_score' column. From there, you can use idxmax() to find the country with the highest 'total_score'."
   ]
  },
  {
   "cell_type": "code",
   "execution_count": 115,
   "id": "3e61b681-3c57-435f-be79-c07c615a724e",
   "metadata": {},
   "outputs": [
    {
     "data": {
      "text/plain": [
       "'Brazil'"
      ]
     },
     "execution_count": 115,
     "metadata": {},
     "output_type": "execute_result"
    }
   ],
   "source": [
    "country_with_highest_goals = fifa_df.groupby('country')['total_goals'].sum().idxmax()\n",
    "country_with_highest_goals\n"
   ]
  }
 ],
 "metadata": {
  "kernelspec": {
   "display_name": "anaconda-2024.02-py310",
   "language": "python",
   "name": "conda-env-anaconda-2024.02-py310-py"
  },
  "language_info": {
   "codemirror_mode": {
    "name": "ipython",
    "version": 3
   },
   "file_extension": ".py",
   "mimetype": "text/x-python",
   "name": "python",
   "nbconvert_exporter": "python",
   "pygments_lexer": "ipython3",
   "version": "3.10.14"
  }
 },
 "nbformat": 4,
 "nbformat_minor": 5
}
